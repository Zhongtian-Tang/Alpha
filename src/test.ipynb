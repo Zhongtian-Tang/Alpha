{
 "cells": [
  {
   "cell_type": "code",
   "execution_count": 1,
   "metadata": {},
   "outputs": [
    {
     "name": "stdout",
     "output_type": "stream",
     "text": [
      "c:\\Users\\hazc\\anaconda3\\Lib\\site-packages\\iFinDPy.pth\n"
     ]
    }
   ],
   "source": [
    "import os\n",
    "import sys\n",
    "import inspect\n",
    "\n",
    "import numpy as np\n",
    "import pandas as pd\n",
    "import matplotlib.pyplot as plt\n",
    "from collections import defaultdict\n",
    "\n",
    "from basefactor import fetcher\n",
    "from factorbase import FactorBase\n",
    "from basicfunc import *\n",
    "from localsimulator import *\n",
    "from dataclean import *\n",
    "from operation import Operation"
   ]
  },
  {
   "cell_type": "markdown",
   "metadata": {},
   "source": [
    "# 检查一个完整的模拟流程"
   ]
  },
  {
   "cell_type": "markdown",
   "metadata": {},
   "source": [
    "## 1.准备数据"
   ]
  },
  {
   "cell_type": "code",
   "execution_count": 15,
   "metadata": {},
   "outputs": [],
   "source": [
    "class FactorPool(FactorBase):\n",
    "    def __init__(self):\n",
    "        super(FactorPool, self).__init__()\n",
    "        self.start_date = \"20200201\"\n",
    "        self.end_date = \"20231231\"\n",
    "\n",
    "        self.winsorize = False\n",
    "        self.zscore = False\n",
    "        self.ind_neu = False\n",
    "        self.fillna = False\n",
    "\n",
    "        self.group_detail = \"off\"\n",
    "        self.stockwise_export = \"off\"\n",
    "        self.prefix = \"tzt\"\n",
    "        self.path = \"./pnl\"\n",
    "\n",
    "        self.need_fields = [\"OPEN\", \"CLOSE\", \"VOL\", \"VWAP\"]\n",
    "\n",
    "    def alpha_1(self):\n",
    "        open = self.need_data[\"OPEN\"]\n",
    "        vol = self.need_data[\"VOL\"]\n",
    "        alpha = -1 * Operation.corr(open, vol, 10, 2)\n",
    "        return alpha\n",
    "\n",
    "    def alpha_2(self):\n",
    "        close = self.need_data[\"CLOSE\"]\n",
    "        open = self.need_data[\"OPEN\"]\n",
    "        alpha = (close - open) \n",
    "        return alpha\n",
    "\n",
    "fpool = FactorPool()"
   ]
  },
  {
   "cell_type": "code",
   "execution_count": 16,
   "metadata": {},
   "outputs": [
    {
     "name": "stderr",
     "output_type": "stream",
     "text": [
      "2024-05-29 15:48:42 [INFO] 2 alphas will be calculated (Simsummary in alphabetical order).\n",
      "2024-05-29 15:48:42 [INFO] Alphas calculated.\n"
     ]
    }
   ],
   "source": [
    "fpool.get_constants()\n",
    "fpool.load_data()\n",
    "fpool.calculate_alpha()"
   ]
  },
  {
   "cell_type": "markdown",
   "metadata": {},
   "source": [
    "## 检查单个因子回测的错误性"
   ]
  },
  {
   "cell_type": "code",
   "execution_count": 17,
   "metadata": {},
   "outputs": [],
   "source": [
    "startdate, enddate = fpool.start_date, fpool.end_date\n",
    "actdays = basicfunc.get_datelist(startdate, enddate, 1, -1)\n",
    "iszt = basicfunc.loadcache(actdays[0], enddate, \"ISZT\")\n",
    "date_list = basicfunc.loadcache(actdays[0], enddate, \"DAYS\")\n",
    "istp = basicfunc.loadcache(actdays[0], enddate, \"ISTP\")\n",
    "vwap_ret = basicfunc.loadcache(actdays[0], enddate, \"VWAPRET\") / 100\n",
    "index_ret = basicfunc.loadcache(actdays[0], enddate, \"IRE500\")\n",
    "group = basicfunc.loadcache(actdays[0], enddate, \"WIND01\")\n",
    "\n",
    "startdi_new = date_list.tolist().index(actdays[1])\n",
    "enddi_new = startdi_new + len(actdays) - 1\n",
    "\n",
    "tickers = basicfunc.loadcache(actdays[0], actdays[-1], \"STOCKS\")"
   ]
  },
  {
   "cell_type": "code",
   "execution_count": 26,
   "metadata": {},
   "outputs": [],
   "source": [
    "simu = Simulator()\n",
    "histdays = enddi_new - startdi_new + 1\n",
    "bt_date = date_list[startdi_new:enddi_new + 1].copy()\n",
    "alpha = fpool.alpha[1]\n",
    "raw_alpha = simu.keepzdt(alpha.copy(), startdi_new, enddi_new, iszt, istp)\n",
    "alpha = simu.keepzdt(alpha, startdi_new, enddi_new, iszt, istp)\n",
    "alpha = simu.scalebook(alpha)\n",
    "palpha = alpha[0 : enddi_new - startdi_new + 1].copy()\n",
    "palpha[palpha <= 0] = np.nan\n",
    "nalpha = alpha[0 : enddi_new - startdi_new + 1].copy()\n",
    "nalpha[nalpha > 0] = np.nan\n",
    "alpha[np.isnan(alpha)] = 0.0\n",
    "palpha[np.isnan(palpha)] = 0.0\n",
    "nalpha[np.isnan(nalpha)] = 0.0\n",
    "logresult = \"\"\n",
    "recordstr = \"\""
   ]
  },
  {
   "cell_type": "code",
   "execution_count": 27,
   "metadata": {},
   "outputs": [],
   "source": [
    "dumpum = np.sum(~(alpha[0 : enddi_new - startdi_new + 1] == 0), axis=1)\n",
    "dumdays = np.where(dumpum <= 50)[0]\n",
    "\n",
    "\n",
    "# check the situation that one stock has over weight in the trading day\n",
    "ta = np.nanmax(palpha, axis=1) / np.nansum(palpha, axis=1)\n",
    "tb = np.nanmax(nalpha, axis=1) / np.nansum(nalpha, axis=1)\n",
    "ta[np.isinf(ta)] = 0.0\n",
    "tb[np.isinf(tb)] = 0.0\n",
    "tadays = np.where(ta > 0.1)[0]\n",
    "tbdays = np.where(tb > 0.1)[0]"
   ]
  },
  {
   "cell_type": "code",
   "execution_count": 28,
   "metadata": {},
   "outputs": [],
   "source": [
    "retmatrix = np.r_[\n",
    "    np.full((1, alpha.shape[1]), 0.0),\n",
    "    alpha[0: histdays - 1] * vwap_ret[startdi_new + 1: enddi_new + 1],\n",
    "]\n",
    "\n",
    "holdpnl = np.r_[\n",
    "            np.nansum(np.full((2, alpha.shape[1]), 0.0), axis=1),\n",
    "            np.nansum(np.minimum(alpha[1:histdays-1], alpha[0 : histdays - 2])*vwap_ret[startdi_new+2 : enddi_new + 1], axis=1),\n",
    "        ]\n",
    "\n",
    "tradepnl = np.nansum(retmatrix, axis=1) - holdpnl\n",
    "tradecap = np.round(\n",
    "    np.r_[\n",
    "        np.nansum(np.abs(alpha[0])),\n",
    "        np.nansum(np.abs(alpha[1:histdays] - alpha[0:histdays-1]), axis=1),\n",
    "        ],\n",
    "        decimals=2,\n",
    ")"
   ]
  },
  {
   "cell_type": "code",
   "execution_count": 31,
   "metadata": {},
   "outputs": [],
   "source": [
    "delta = alpha[1:histdays] - alpha[0 : histdays - 1]\n",
    "pdelta = palpha[1:histdays] - palpha[0 : histdays - 1]\n",
    "ndelta = nalpha[1:histdays] - nalpha[0 : histdays - 1]\n",
    "poscost = np.r_[\n",
    "            tradecap[0] * 0.0002 * 1, # 0.0002 is the transaction cost\n",
    "            np.nansum(np.where(delta > 0, delta, 0), axis=1) * 0.0002 * 1,\n",
    "        ]\n",
    "negcost = np.r_[\n",
    "            0.0, np.nansum(np.where(delta < 0, delta, 0), axis=1) * -0.0012 * 1\n",
    "        ]\n",
    "\n",
    "pospnl = np.around(\n",
    "            np.r_[\n",
    "                0.0,\n",
    "                np.nansum(\n",
    "                    np.where(alpha[0 : histdays - 1] > 0, retmatrix[1:], 0), axis=1\n",
    "                ),\n",
    "            ]\n",
    "            - poscost\n",
    "            - poscost,\n",
    "            decimals=2,\n",
    "        )\n",
    "\n",
    "# * Use xarray to calc IC now(behavior like df.corr but faster 300x)\n",
    "IC = np.around(\n",
    "            np.r_[\n",
    "                0.0,\n",
    "                xr.corr(\n",
    "                    xr.DataArray(alpha[0 : enddi_new - startdi_new], dims=(\"date\", \"ticker\")),\n",
    "                    xr.DataArray(\n",
    "                        vwap_ret[startdi_new + 1 : enddi_new + 1], dims=(\"date\", \"ticker\")\n",
    "                    ),\n",
    "                    dim=\"ticker\",\n",
    "                ),\n",
    "            ],\n",
    "            decimals=6,\n",
    "        )\n",
    "\n",
    "inx_ret = np.around(\n",
    "            np.r_[0.0, index_ret[startdi_new + 1 : enddi_new + 1]], decimals=6\n",
    "        )\n",
    "        \n",
    "        # Coverage Rate\n",
    "poscov = np.around(np.nansum(alpha > 0, axis=1), decimals=1)\n",
    "negcov = np.around(np.nansum(alpha < 0, axis=1), decimals=1)\n",
    "\n",
    "longsize = np.around(np.nansum(palpha, axis=1), decimals=1)\n",
    "shortsize = np.around(np.nansum(nalpha, axis=1), decimals=1)\n",
    "pnl = np.around(np.nansum(retmatrix, axis=1) - poscost - negcost, decimals=2)\n",
    "ret = np.around(pnl / np.nansum(abs(alpha), axis=1), decimals=6)\n",
    "ret[np.isnan(ret)] = 0.0"
   ]
  },
  {
   "cell_type": "markdown",
   "metadata": {},
   "source": [
    "## 2. 开始回测"
   ]
  },
  {
   "cell_type": "code",
   "execution_count": null,
   "metadata": {},
   "outputs": [],
   "source": []
  }
 ],
 "metadata": {
  "kernelspec": {
   "display_name": "base",
   "language": "python",
   "name": "python3"
  },
  "language_info": {
   "codemirror_mode": {
    "name": "ipython",
    "version": 3
   },
   "file_extension": ".py",
   "mimetype": "text/x-python",
   "name": "python",
   "nbconvert_exporter": "python",
   "pygments_lexer": "ipython3",
   "version": "3.11.7"
  },
  "orig_nbformat": 4
 },
 "nbformat": 4,
 "nbformat_minor": 2
}
