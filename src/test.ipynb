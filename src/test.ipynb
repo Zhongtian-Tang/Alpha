{
 "cells": [
  {
   "cell_type": "code",
   "execution_count": 1,
   "metadata": {},
   "outputs": [
    {
     "name": "stdout",
     "output_type": "stream",
     "text": [
      "c:\\Users\\hazc\\anaconda3\\Lib\\site-packages\\iFinDPy.pth\n"
     ]
    }
   ],
   "source": [
    "import os\n",
    "import sys\n",
    "\n",
    "import numpy as np\n",
    "import pandas as pd\n",
    "import matplotlib.pyplot as plt\n",
    "\n",
    "from basefactor import fetcher\n",
    "from basicfunc import *\n",
    "from localsimulator import *\n",
    "from dataclean import *"
   ]
  },
  {
   "cell_type": "markdown",
   "metadata": {},
   "source": [
    "# 检查一个完整的模拟流程"
   ]
  },
  {
   "cell_type": "markdown",
   "metadata": {},
   "source": [
    "## 1. 准备数据"
   ]
  },
  {
   "cell_type": "code",
   "execution_count": 9,
   "metadata": {},
   "outputs": [],
   "source": [
    "alpha = fetcher.get_tradedate_data(\"liuhz.vol\", \"2021-01-05\", \"2021-12-10\", \"uid\").pivot_table(\n",
    "    index=\"tradedate\", columns=\"wind_code\", values=\"uid\")"
   ]
  },
  {
   "cell_type": "code",
   "execution_count": 12,
   "metadata": {},
   "outputs": [
    {
     "data": {
      "text/plain": [
       "(227, 4593)"
      ]
     },
     "execution_count": 12,
     "metadata": {},
     "output_type": "execute_result"
    }
   ],
   "source": []
  },
  {
   "cell_type": "code",
   "execution_count": 2,
   "metadata": {},
   "outputs": [],
   "source": [
    "alpha = fetcher.get_tradedate_data(\"liuhz.vol\", \"2021-01-05\", \"2021-12-10\", \"uid\")\n",
    "alpha = pd.pivot_table(alpha, index=\"tradedate\", columns=\"wind_code\", values=\"uid\").to_numpy()\n",
    "\n",
    "startdate='20210105'\n",
    "enddate='20211210'\n",
    "actdays = basicfunc.get_datelist(startdate, enddate, 1, -1)\n",
    "iszt = basicfunc.loadcache(actdays[0], enddate, 'ISZT')\n",
    "date_list = basicfunc.get_datelist('20210101', '20211231', 0, 0)\n",
    "vwap_ret = basicfunc.loadcache(actdays[0], enddate, 'VWAPRET')\n",
    "group = basicfunc.loadcache(actdays[0], enddate, 'WIND01')\n",
    "startdi = date_list.tolist().index(actdays[1])\n",
    "enddi = startdi + len(actdays) - 1\n",
    "ticker = basicfunc.loadcache(actdays[0], actdays[-1], 'STOCKS')"
   ]
  },
  {
   "cell_type": "markdown",
   "metadata": {},
   "source": [
    "## 2. 清洗数据"
   ]
  },
  {
   "cell_type": "code",
   "execution_count": 7,
   "metadata": {},
   "outputs": [
    {
     "data": {
      "text/plain": [
       "array([[0.15595 , 0.112357, 0.318032, ...,      nan, 0.348808, 0.153205],\n",
       "       [0.156153, 0.142014, 0.312257, ...,      nan, 0.356223, 0.163051],\n",
       "       [0.191019, 0.172631, 0.305351, ...,      nan, 0.330643, 0.156337],\n",
       "       ...,\n",
       "       [0.288572, 0.328156, 0.513428, ..., 0.218412, 0.440964, 0.488189],\n",
       "       [0.270692, 0.271993, 0.507578, ..., 0.218654, 0.329497, 0.484427],\n",
       "       [0.233554, 0.244559, 0.515008, ..., 0.231204, 0.181817, 0.481226]])"
      ]
     },
     "execution_count": 7,
     "metadata": {},
     "output_type": "execute_result"
    }
   ],
   "source": [
    "alpha"
   ]
  },
  {
   "cell_type": "code",
   "execution_count": null,
   "metadata": {},
   "outputs": [],
   "source": [
    "simulator = Simulator()\n",
    "histdays = enddi - startdi + 1\n",
    "bt_date = date_list[startdi:enddi+1].copy()\n",
    "raw_alpha = simulator.keepzdt(alpha.copy(), startdi, enddi, iszt)\n",
    "alpha = simulator.keepzdt(alpha, startdi, enddi, iszt)\n",
    "alpha = simulator.scalebook(alpha)\n",
    "\n",
    "palpha = alpha[0: enddi - startdi + 1.copy]"
   ]
  }
 ],
 "metadata": {
  "kernelspec": {
   "display_name": "base",
   "language": "python",
   "name": "python3"
  },
  "language_info": {
   "codemirror_mode": {
    "name": "ipython",
    "version": 3
   },
   "file_extension": ".py",
   "mimetype": "text/x-python",
   "name": "python",
   "nbconvert_exporter": "python",
   "pygments_lexer": "ipython3",
   "version": "3.11.7"
  },
  "orig_nbformat": 4
 },
 "nbformat": 4,
 "nbformat_minor": 2
}
