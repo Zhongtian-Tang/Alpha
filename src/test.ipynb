{
 "cells": [
  {
   "cell_type": "code",
   "execution_count": 1,
   "metadata": {},
   "outputs": [
    {
     "name": "stdout",
     "output_type": "stream",
     "text": [
      "c:\\Users\\hazc\\anaconda3\\Lib\\site-packages\\iFinDPy.pth\n"
     ]
    }
   ],
   "source": [
    "import os\n",
    "import sys\n",
    "\n",
    "import numpy as np\n",
    "import pandas as pd\n",
    "import matplotlib.pyplot as plt\n",
    "\n",
    "from basefactor import fetcher\n",
    "from basicfunc import *\n",
    "from localsimulator import *\n",
    "from dataclean import *"
   ]
  },
  {
   "cell_type": "markdown",
   "metadata": {},
   "source": [
    "# 检查一个完整的模拟流程"
   ]
  },
  {
   "cell_type": "markdown",
   "metadata": {},
   "source": [
    "## 1. 对比一下数据准确性"
   ]
  },
  {
   "cell_type": "code",
   "execution_count": 2,
   "metadata": {},
   "outputs": [],
   "source": [
    "target_list = [\"ASHARE\", \"CAP\", \"CLOSE\", \"DAYS\", \"HIGH\", \"ISZT\",\\\n",
    "               \"LOW\", \"OPEN\", \"PE\", \"STOCKS\", \"TVR5\", \"VOL\", \"VWAP\",\\\n",
    "               \"VWAPRET\", \"WIND01\"]\n",
    "start_date = \"2021-01-01\"\n",
    "end_date = \"2022-12-31\"\n",
    "df_1 = fetcher.get_market_data('jydb.dstock', start_date, end_date, \"CLOSE\", \"PCT_CHG\",\\\n",
    "                               \"MAXUPORDOWN\", \"VAL_FLOATMV\", \"is_trade\", \"FLOAT_A_SHARES\", \"EV\")\n",
    "df_2 = fetcher.get_tradedate_data('jydb.dailydata', start_date, end_date, \"freefloats\",\\\n",
    "                                  \"firstindustrycode\", \"ifsuspend\", \"changepct\", \"negotiablemv\",\\\n",
    "                                  \"closeprice\", \"totalmv\")\n",
    "df_1 = df_1[~df_1['wind_code'].str.endswith('.BJ')]\n",
    "\n",
    "def process_data(df):\n",
    "    df_new = df.set_index(['tradedate', 'wind_code'])\n",
    "    return df_new.sort_index()\n",
    "\n",
    "df_1_new = process_data(df_1.copy())\n",
    "df_2_new = process_data(df_2.copy())\n"
   ]
  },
  {
   "cell_type": "code",
   "execution_count": 11,
   "metadata": {},
   "outputs": [
    {
     "data": {
      "text/html": [
       "<div>\n",
       "<style scoped>\n",
       "    .dataframe tbody tr th:only-of-type {\n",
       "        vertical-align: middle;\n",
       "    }\n",
       "\n",
       "    .dataframe tbody tr th {\n",
       "        vertical-align: top;\n",
       "    }\n",
       "\n",
       "    .dataframe thead th {\n",
       "        text-align: right;\n",
       "    }\n",
       "</style>\n",
       "<table border=\"1\" class=\"dataframe\">\n",
       "  <thead>\n",
       "    <tr style=\"text-align: right;\">\n",
       "      <th></th>\n",
       "      <th>CLOSE</th>\n",
       "      <th>PCT_CHG</th>\n",
       "      <th>MAXUPORDOWN</th>\n",
       "      <th>VAL_FLOATMV</th>\n",
       "      <th>is_trade</th>\n",
       "      <th>FLOAT_A_SHARES</th>\n",
       "      <th>EV</th>\n",
       "    </tr>\n",
       "    <tr>\n",
       "      <th>tradedate</th>\n",
       "      <th></th>\n",
       "      <th></th>\n",
       "      <th></th>\n",
       "      <th></th>\n",
       "      <th></th>\n",
       "      <th></th>\n",
       "      <th></th>\n",
       "    </tr>\n",
       "  </thead>\n",
       "  <tbody>\n",
       "    <tr>\n",
       "      <th>2022-04-25</th>\n",
       "      <td>0.34</td>\n",
       "      <td>0.0</td>\n",
       "      <td>0.0</td>\n",
       "      <td>3.004642e+08</td>\n",
       "      <td>0.0</td>\n",
       "      <td>1.491100e+09</td>\n",
       "      <td>506974129.2</td>\n",
       "    </tr>\n",
       "    <tr>\n",
       "      <th>2022-04-26</th>\n",
       "      <td>0.34</td>\n",
       "      <td>0.0</td>\n",
       "      <td>0.0</td>\n",
       "      <td>3.004642e+08</td>\n",
       "      <td>0.0</td>\n",
       "      <td>1.491100e+09</td>\n",
       "      <td>506974129.2</td>\n",
       "    </tr>\n",
       "  </tbody>\n",
       "</table>\n",
       "</div>"
      ],
      "text/plain": [
       "            CLOSE  PCT_CHG  MAXUPORDOWN   VAL_FLOATMV  is_trade  \\\n",
       "tradedate                                                         \n",
       "2022-04-25   0.34      0.0          0.0  3.004642e+08       0.0   \n",
       "2022-04-26   0.34      0.0          0.0  3.004642e+08       0.0   \n",
       "\n",
       "            FLOAT_A_SHARES           EV  \n",
       "tradedate                                \n",
       "2022-04-25    1.491100e+09  506974129.2  \n",
       "2022-04-26    1.491100e+09  506974129.2  "
      ]
     },
     "execution_count": 11,
     "metadata": {},
     "output_type": "execute_result"
    }
   ],
   "source": [
    "df_1_new.xs('600145.SH', level=1)['2022-04-25':'2022-05-20']"
   ]
  },
  {
   "cell_type": "code",
   "execution_count": 12,
   "metadata": {},
   "outputs": [
    {
     "data": {
      "text/html": [
       "<div>\n",
       "<style scoped>\n",
       "    .dataframe tbody tr th:only-of-type {\n",
       "        vertical-align: middle;\n",
       "    }\n",
       "\n",
       "    .dataframe tbody tr th {\n",
       "        vertical-align: top;\n",
       "    }\n",
       "\n",
       "    .dataframe thead th {\n",
       "        text-align: right;\n",
       "    }\n",
       "</style>\n",
       "<table border=\"1\" class=\"dataframe\">\n",
       "  <thead>\n",
       "    <tr style=\"text-align: right;\">\n",
       "      <th></th>\n",
       "      <th>freefloats</th>\n",
       "      <th>firstindustrycode</th>\n",
       "      <th>ifsuspend</th>\n",
       "      <th>changepct</th>\n",
       "      <th>negotiablemv</th>\n",
       "      <th>closeprice</th>\n",
       "      <th>totalmv</th>\n",
       "    </tr>\n",
       "    <tr>\n",
       "      <th>tradedate</th>\n",
       "      <th></th>\n",
       "      <th></th>\n",
       "      <th></th>\n",
       "      <th></th>\n",
       "      <th></th>\n",
       "      <th></th>\n",
       "      <th></th>\n",
       "    </tr>\n",
       "  </thead>\n",
       "  <tbody>\n",
       "    <tr>\n",
       "      <th>2022-04-25</th>\n",
       "      <td>883718284.0</td>\n",
       "      <td>31.0</td>\n",
       "      <td>1.0</td>\n",
       "      <td>0.0</td>\n",
       "      <td>506974129.2</td>\n",
       "      <td>0.34</td>\n",
       "      <td>506974129.2</td>\n",
       "    </tr>\n",
       "    <tr>\n",
       "      <th>2022-04-26</th>\n",
       "      <td>883718284.0</td>\n",
       "      <td>31.0</td>\n",
       "      <td>1.0</td>\n",
       "      <td>0.0</td>\n",
       "      <td>506974129.2</td>\n",
       "      <td>0.34</td>\n",
       "      <td>506974129.2</td>\n",
       "    </tr>\n",
       "    <tr>\n",
       "      <th>2022-04-27</th>\n",
       "      <td>883718284.0</td>\n",
       "      <td>31.0</td>\n",
       "      <td>1.0</td>\n",
       "      <td>0.0</td>\n",
       "      <td>506974129.2</td>\n",
       "      <td>0.34</td>\n",
       "      <td>506974129.2</td>\n",
       "    </tr>\n",
       "  </tbody>\n",
       "</table>\n",
       "</div>"
      ],
      "text/plain": [
       "             freefloats  firstindustrycode  ifsuspend  changepct  \\\n",
       "tradedate                                                          \n",
       "2022-04-25  883718284.0               31.0        1.0        0.0   \n",
       "2022-04-26  883718284.0               31.0        1.0        0.0   \n",
       "2022-04-27  883718284.0               31.0        1.0        0.0   \n",
       "\n",
       "            negotiablemv  closeprice      totalmv  \n",
       "tradedate                                          \n",
       "2022-04-25   506974129.2        0.34  506974129.2  \n",
       "2022-04-26   506974129.2        0.34  506974129.2  \n",
       "2022-04-27   506974129.2        0.34  506974129.2  "
      ]
     },
     "execution_count": 12,
     "metadata": {},
     "output_type": "execute_result"
    }
   ],
   "source": [
    "df_2_new.xs('600145.SH', level=1)['2022-04-25':'2022-05-20']"
   ]
  },
  {
   "cell_type": "code",
   "execution_count": null,
   "metadata": {},
   "outputs": [],
   "source": []
  }
 ],
 "metadata": {
  "kernelspec": {
   "display_name": "base",
   "language": "python",
   "name": "python3"
  },
  "language_info": {
   "codemirror_mode": {
    "name": "ipython",
    "version": 3
   },
   "file_extension": ".py",
   "mimetype": "text/x-python",
   "name": "python",
   "nbconvert_exporter": "python",
   "pygments_lexer": "ipython3",
   "version": "3.11.7"
  },
  "orig_nbformat": 4
 },
 "nbformat": 4,
 "nbformat_minor": 2
}
