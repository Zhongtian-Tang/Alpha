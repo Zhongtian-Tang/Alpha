{
 "cells": [
  {
   "cell_type": "code",
   "execution_count": 1,
   "metadata": {},
   "outputs": [
    {
     "name": "stdout",
     "output_type": "stream",
     "text": [
      "c:\\Users\\hazc\\anaconda3\\Lib\\site-packages\\iFinDPy.pth\n"
     ]
    }
   ],
   "source": [
    "import os\n",
    "import sys\n",
    "\n",
    "import numpy as np\n",
    "import pandas as pd\n",
    "import matplotlib.pyplot as plt\n",
    "\n",
    "from basefactor import fetcher\n",
    "from basicfunc import *\n",
    "from localsimulator import *\n",
    "from dataclean import *"
   ]
  },
  {
   "cell_type": "markdown",
   "metadata": {},
   "source": [
    "# 检查一个完整的模拟流程"
   ]
  },
  {
   "cell_type": "markdown",
   "metadata": {},
   "source": [
    "## 1. 对比一下数据准确性"
   ]
  },
  {
   "cell_type": "code",
   "execution_count": 2,
   "metadata": {},
   "outputs": [
    {
     "name": "stdout",
     "output_type": "stream",
     "text": [
      "Folder 2018 created.\n",
      "Year 2018 items ASHARE saved. shape is (243, 3572)\n",
      "Year 2018 items CAP saved. shape is (243, 3572)\n",
      "Year 2018 items OPEN saved. shape is (243, 3572)\n",
      "Year 2018 items HIGH saved. shape is (243, 3572)\n",
      "Year 2018 items LOW saved. shape is (243, 3572)\n",
      "Year 2018 items CLOSE saved. shape is (243, 3572)\n",
      "Year 2018 items VWAP saved. shape is (0, 0)\n",
      "Year 2018 items VWAPRET saved. shape is (243, 3572)\n",
      "Year 2018 items VOL saved. shape is (243, 3572)\n",
      "Year 2018 items ISZT saved. shape is (243, 3572)\n",
      "Year 2018 items ISTP saved. shape is (243, 3572)\n",
      "Year 2018 items WIND01 saved. shape is (243, 3569)\n",
      "Year 2018 items DAYS saved. shape is (243,)\n",
      "Year 2018 items STOCKS saved. shape is (3572,)\n",
      "Year 2018 saved.\n",
      "Folder 2019 created.\n",
      "Year 2019 items ASHARE saved. shape is (244, 3770)\n",
      "Year 2019 items CAP saved. shape is (244, 3769)\n",
      "Year 2019 items OPEN saved. shape is (244, 3770)\n",
      "Year 2019 items HIGH saved. shape is (244, 3770)\n",
      "Year 2019 items LOW saved. shape is (244, 3770)\n",
      "Year 2019 items CLOSE saved. shape is (244, 3770)\n",
      "Year 2019 items VWAP saved. shape is (0, 0)\n",
      "Year 2019 items VWAPRET saved. shape is (244, 3770)\n",
      "Year 2019 items VOL saved. shape is (244, 3770)\n",
      "Year 2019 items ISZT saved. shape is (244, 3769)\n",
      "Year 2019 items ISTP saved. shape is (244, 3770)\n",
      "Year 2019 items WIND01 saved. shape is (244, 3741)\n",
      "Year 2019 items DAYS saved. shape is (244,)\n",
      "Year 2019 items STOCKS saved. shape is (3770,)\n",
      "Year 2019 saved.\n",
      "Folder 2020 created.\n",
      "Year 2020 items ASHARE saved. shape is (243, 4156)\n",
      "Year 2020 items CAP saved. shape is (243, 4155)\n",
      "Year 2020 items OPEN saved. shape is (243, 4156)\n",
      "Year 2020 items HIGH saved. shape is (243, 4156)\n",
      "Year 2020 items LOW saved. shape is (243, 4156)\n",
      "Year 2020 items CLOSE saved. shape is (243, 4156)\n",
      "Year 2020 items VWAP saved. shape is (243, 4154)\n",
      "Year 2020 items VWAPRET saved. shape is (243, 4156)\n",
      "Year 2020 items VOL saved. shape is (243, 4156)\n",
      "Year 2020 items ISZT saved. shape is (243, 4154)\n",
      "Year 2020 items ISTP saved. shape is (243, 4156)\n",
      "Year 2020 items WIND01 saved. shape is (243, 4154)\n",
      "Year 2020 items DAYS saved. shape is (243,)\n",
      "Year 2020 items STOCKS saved. shape is (4156,)\n",
      "Year 2020 saved.\n",
      "Folder 2021 created.\n",
      "Year 2021 items ASHARE saved. shape is (243, 4623)\n",
      "Year 2021 items CAP saved. shape is (243, 4619)\n",
      "Year 2021 items OPEN saved. shape is (243, 4623)\n",
      "Year 2021 items HIGH saved. shape is (243, 4623)\n",
      "Year 2021 items LOW saved. shape is (243, 4623)\n",
      "Year 2021 items CLOSE saved. shape is (243, 4623)\n",
      "Year 2021 items VWAP saved. shape is (243, 4619)\n",
      "Year 2021 items VWAPRET saved. shape is (243, 4623)\n",
      "Year 2021 items VOL saved. shape is (243, 4623)\n",
      "Year 2021 items ISZT saved. shape is (243, 4618)\n",
      "Year 2021 items ISTP saved. shape is (243, 4623)\n",
      "Year 2021 items WIND01 saved. shape is (243, 4623)\n",
      "Year 2021 items DAYS saved. shape is (243,)\n",
      "Year 2021 items STOCKS saved. shape is (4623,)\n",
      "Year 2021 saved.\n",
      "Folder 2022 created.\n",
      "Year 2022 items ASHARE saved. shape is (242, 4948)\n",
      "Year 2022 items CAP saved. shape is (242, 4948)\n",
      "Year 2022 items OPEN saved. shape is (242, 4948)\n",
      "Year 2022 items HIGH saved. shape is (242, 4948)\n",
      "Year 2022 items LOW saved. shape is (242, 4948)\n",
      "Year 2022 items CLOSE saved. shape is (242, 4948)\n",
      "Year 2022 items VWAP saved. shape is (242, 4947)\n",
      "Year 2022 items VWAPRET saved. shape is (242, 4948)\n",
      "Year 2022 items VOL saved. shape is (242, 4948)\n",
      "Year 2022 items ISZT saved. shape is (242, 4947)\n",
      "Year 2022 items ISTP saved. shape is (242, 4948)\n",
      "Year 2022 items WIND01 saved. shape is (242, 4947)\n",
      "Year 2022 items DAYS saved. shape is (242,)\n",
      "Year 2022 items STOCKS saved. shape is (4948,)\n",
      "Year 2022 saved.\n"
     ]
    }
   ],
   "source": [
    "gener = Generator('20180101', '20221231')\n",
    "gener.execute_save()"
   ]
  },
  {
   "cell_type": "code",
   "execution_count": null,
   "metadata": {},
   "outputs": [],
   "source": []
  }
 ],
 "metadata": {
  "kernelspec": {
   "display_name": "base",
   "language": "python",
   "name": "python3"
  },
  "language_info": {
   "codemirror_mode": {
    "name": "ipython",
    "version": 3
   },
   "file_extension": ".py",
   "mimetype": "text/x-python",
   "name": "python",
   "nbconvert_exporter": "python",
   "pygments_lexer": "ipython3",
   "version": "3.11.7"
  },
  "orig_nbformat": 4
 },
 "nbformat": 4,
 "nbformat_minor": 2
}
